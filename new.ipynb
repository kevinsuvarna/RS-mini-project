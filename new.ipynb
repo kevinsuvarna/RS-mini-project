{
 "cells": [
  {
   "cell_type": "code",
   "execution_count": 2,
   "metadata": {},
   "outputs": [
    {
     "name": "stdout",
     "output_type": "stream",
     "text": [
      "      movieId                                      title  \\\n",
      "0           1                           Toy Story (1995)   \n",
      "1           2                             Jumanji (1995)   \n",
      "2           3                    Grumpier Old Men (1995)   \n",
      "3           4                   Waiting to Exhale (1995)   \n",
      "4           5         Father of the Bride Part II (1995)   \n",
      "...       ...                                        ...   \n",
      "9737   193581  Black Butler: Book of the Atlantic (2017)   \n",
      "9738   193583               No Game No Life: Zero (2017)   \n",
      "9739   193585                               Flint (2017)   \n",
      "9740   193587        Bungo Stray Dogs: Dead Apple (2018)   \n",
      "9741   193609        Andrew Dice Clay: Dice Rules (1991)   \n",
      "\n",
      "                                           genres  \\\n",
      "0     Adventure|Animation|Children|Comedy|Fantasy   \n",
      "1                      Adventure|Children|Fantasy   \n",
      "2                                  Comedy|Romance   \n",
      "3                            Comedy|Drama|Romance   \n",
      "4                                          Comedy   \n",
      "...                                           ...   \n",
      "9737              Action|Animation|Comedy|Fantasy   \n",
      "9738                     Animation|Comedy|Fantasy   \n",
      "9739                                        Drama   \n",
      "9740                             Action|Animation   \n",
      "9741                                       Comedy   \n",
      "\n",
      "                                                 poster  \n",
      "0               ./static/Pictures/Toy Story (1995).jpeg  \n",
      "1                 ./static/Pictures/Jumanji (1995).jpeg  \n",
      "2        ./static/Pictures/Grumpier Old Men (1995).jpeg  \n",
      "3       ./static/Pictures/Waiting to Exhale (1995).jpeg  \n",
      "4     ./static/Pictures/Father of the Bride Part II ...  \n",
      "...                                                 ...  \n",
      "9737  ./static/Pictures/Black Butler: Book of the At...  \n",
      "9738  ./static/Pictures/No Game No Life: Zero (2017)...  \n",
      "9739                ./static/Pictures/Flint (2017).jpeg  \n",
      "9740  ./static/Pictures/Bungo Stray Dogs: Dead Apple...  \n",
      "9741  ./static/Pictures/Andrew Dice Clay: Dice Rules...  \n",
      "\n",
      "[9742 rows x 4 columns]\n"
     ]
    }
   ],
   "source": [
    "import pandas as pd\n",
    "\n",
    "# Sample DataFrame with movie names\n",
    "df = pd.read_csv('./data/movies.csv')\n",
    "\n",
    "# Create a new column 'poster_path' with the directory path\n",
    "df['poster'] = './static/Pictures/' + df['title'] + '.jpeg'\n",
    "\n",
    "# Display the DataFrame\n",
    "print(df)\n"
   ]
  },
  {
   "cell_type": "code",
   "execution_count": 3,
   "metadata": {},
   "outputs": [
    {
     "data": {
      "text/html": [
       "<div>\n",
       "<style scoped>\n",
       "    .dataframe tbody tr th:only-of-type {\n",
       "        vertical-align: middle;\n",
       "    }\n",
       "\n",
       "    .dataframe tbody tr th {\n",
       "        vertical-align: top;\n",
       "    }\n",
       "\n",
       "    .dataframe thead th {\n",
       "        text-align: right;\n",
       "    }\n",
       "</style>\n",
       "<table border=\"1\" class=\"dataframe\">\n",
       "  <thead>\n",
       "    <tr style=\"text-align: right;\">\n",
       "      <th></th>\n",
       "      <th>movieId</th>\n",
       "      <th>title</th>\n",
       "      <th>genres</th>\n",
       "      <th>poster</th>\n",
       "    </tr>\n",
       "  </thead>\n",
       "  <tbody>\n",
       "    <tr>\n",
       "      <th>0</th>\n",
       "      <td>1</td>\n",
       "      <td>Toy Story (1995)</td>\n",
       "      <td>Adventure|Animation|Children|Comedy|Fantasy</td>\n",
       "      <td>./static/Pictures/Toy Story (1995).jpeg</td>\n",
       "    </tr>\n",
       "    <tr>\n",
       "      <th>1</th>\n",
       "      <td>2</td>\n",
       "      <td>Jumanji (1995)</td>\n",
       "      <td>Adventure|Children|Fantasy</td>\n",
       "      <td>./static/Pictures/Jumanji (1995).jpeg</td>\n",
       "    </tr>\n",
       "    <tr>\n",
       "      <th>2</th>\n",
       "      <td>3</td>\n",
       "      <td>Grumpier Old Men (1995)</td>\n",
       "      <td>Comedy|Romance</td>\n",
       "      <td>./static/Pictures/Grumpier Old Men (1995).jpeg</td>\n",
       "    </tr>\n",
       "    <tr>\n",
       "      <th>3</th>\n",
       "      <td>4</td>\n",
       "      <td>Waiting to Exhale (1995)</td>\n",
       "      <td>Comedy|Drama|Romance</td>\n",
       "      <td>./static/Pictures/Waiting to Exhale (1995).jpeg</td>\n",
       "    </tr>\n",
       "    <tr>\n",
       "      <th>4</th>\n",
       "      <td>5</td>\n",
       "      <td>Father of the Bride Part II (1995)</td>\n",
       "      <td>Comedy</td>\n",
       "      <td>./static/Pictures/Father of the Bride Part II ...</td>\n",
       "    </tr>\n",
       "  </tbody>\n",
       "</table>\n",
       "</div>"
      ],
      "text/plain": [
       "   movieId                               title  \\\n",
       "0        1                    Toy Story (1995)   \n",
       "1        2                      Jumanji (1995)   \n",
       "2        3             Grumpier Old Men (1995)   \n",
       "3        4            Waiting to Exhale (1995)   \n",
       "4        5  Father of the Bride Part II (1995)   \n",
       "\n",
       "                                        genres  \\\n",
       "0  Adventure|Animation|Children|Comedy|Fantasy   \n",
       "1                   Adventure|Children|Fantasy   \n",
       "2                               Comedy|Romance   \n",
       "3                         Comedy|Drama|Romance   \n",
       "4                                       Comedy   \n",
       "\n",
       "                                              poster  \n",
       "0            ./static/Pictures/Toy Story (1995).jpeg  \n",
       "1              ./static/Pictures/Jumanji (1995).jpeg  \n",
       "2     ./static/Pictures/Grumpier Old Men (1995).jpeg  \n",
       "3    ./static/Pictures/Waiting to Exhale (1995).jpeg  \n",
       "4  ./static/Pictures/Father of the Bride Part II ...  "
      ]
     },
     "execution_count": 3,
     "metadata": {},
     "output_type": "execute_result"
    }
   ],
   "source": [
    "df.head()"
   ]
  },
  {
   "cell_type": "code",
   "execution_count": 6,
   "metadata": {},
   "outputs": [],
   "source": [
    "df.to_csv('./movies.csv',index=False)"
   ]
  },
  {
   "cell_type": "code",
   "execution_count": null,
   "metadata": {},
   "outputs": [],
   "source": []
  }
 ],
 "metadata": {
  "kernelspec": {
   "display_name": "Python 3",
   "language": "python",
   "name": "python3"
  },
  "language_info": {
   "codemirror_mode": {
    "name": "ipython",
    "version": 3
   },
   "file_extension": ".py",
   "mimetype": "text/x-python",
   "name": "python",
   "nbconvert_exporter": "python",
   "pygments_lexer": "ipython3",
   "version": "3.10.0"
  }
 },
 "nbformat": 4,
 "nbformat_minor": 2
}
